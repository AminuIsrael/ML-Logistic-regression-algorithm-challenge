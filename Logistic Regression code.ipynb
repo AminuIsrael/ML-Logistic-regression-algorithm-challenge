{
 "cells": [
  {
   "cell_type": "markdown",
   "metadata": {},
   "source": [
    "### In the field of machine learning, it's the goal of statistical classification is to use an object's characteristics to identify which class (or group) it belongs to. \n",
    "\n",
    "- Logistic regression is the means by which classification is made based on predictor function that is linear, combining weights with the values of the dependent variable which in this case is our x\n",
    "\n",
    "#### Note: This is only for a binary classification problem not multi-classification"
   ]
  },
  {
   "cell_type": "code",
   "execution_count": 1,
   "metadata": {},
   "outputs": [],
   "source": [
    "import pandas as pd\n",
    "import numpy as np\n",
    "import matplotlib.pyplot as plt\n",
    "#TO remove depreciation warnings when we run the code\n",
    "import warnings\n",
    "warnings.filterwarnings('ignore')\n",
    "warnings.filterwarnings('ignore', category=DeprecationWarning)\n",
    "%matplotlib inline"
   ]
  },
  {
   "cell_type": "code",
   "execution_count": 2,
   "metadata": {},
   "outputs": [],
   "source": [
    "class logistic_regression:\n",
    "    \n",
    "    def __init__(self,iterations,alpha):\n",
    "        self.iterations=iterations  #choosing the number of iterations (Hyperparameter)\n",
    "        self.alpha=alpha       #choosing alpha(Hyperparameter) \n",
    "    \n",
    "    def sigmoid(self,z):\n",
    "        return(1/(1+np.exp(-z)))    #sigmoid function\n",
    "    \n",
    "    def fit(self,x,y):              #(X-data for training, y - Output) \n",
    "        m=x.shape[0]                \n",
    "        self.w=np.random.randn(x.shape[1],1)  #Initializing the weight\n",
    "        \n",
    "        cost_vals=[] \n",
    "        for i in range(2):     #For each number of iterations\n",
    "            a= np.dot(x,self.w)            #multiplying the weights with the Feature values and summing them up\n",
    "            z=self.sigmoid(a)         #Using link function to transform the data\n",
    "            \n",
    "            cost = (-1/m) *( np.dot(y,np.log(z))+(np.dot((1-y),np.log(1-z))))  #Calculating the cost function\n",
    "            \n",
    "            cost_vals.append(cost)        #Creating a list with all cost values for each iteration\n",
    "            \n",
    "            dw = np.dot(x.T,z-np.array([y])).mean()  #Calculating the gradient\n",
    "            \n",
    "            self.w=self.w-(self.alpha*dw)         #updating the weights\n",
    "        return self\n",
    "    \n",
    "    def predict(self,x,threshold): \n",
    "        probability=self.sigmoid(np.dot(x,self.w))  #predicting a new set of values based on the training \n",
    "\n",
    "        if(probability>threshold):\n",
    "            return (1)\n",
    "        else:\n",
    "            return (0)"
   ]
  },
  {
   "cell_type": "code",
   "execution_count": 3,
   "metadata": {},
   "outputs": [],
   "source": [
    "df = pd.read_csv('pimadiabetics.csv')"
   ]
  },
  {
   "cell_type": "code",
   "execution_count": 4,
   "metadata": {},
   "outputs": [
    {
     "data": {
      "text/plain": [
       "(768, 9)"
      ]
     },
     "execution_count": 4,
     "metadata": {},
     "output_type": "execute_result"
    }
   ],
   "source": [
    "df.shape"
   ]
  },
  {
   "cell_type": "code",
   "execution_count": 5,
   "metadata": {},
   "outputs": [
    {
     "data": {
      "text/html": [
       "<div>\n",
       "<style scoped>\n",
       "    .dataframe tbody tr th:only-of-type {\n",
       "        vertical-align: middle;\n",
       "    }\n",
       "\n",
       "    .dataframe tbody tr th {\n",
       "        vertical-align: top;\n",
       "    }\n",
       "\n",
       "    .dataframe thead th {\n",
       "        text-align: right;\n",
       "    }\n",
       "</style>\n",
       "<table border=\"1\" class=\"dataframe\">\n",
       "  <thead>\n",
       "    <tr style=\"text-align: right;\">\n",
       "      <th></th>\n",
       "      <th>Number of times pregnant</th>\n",
       "      <th>Plasma glucose concentration</th>\n",
       "      <th>Diastolic blood pressure</th>\n",
       "      <th>Triceps skinfold thickness</th>\n",
       "      <th>2-Hour serum insulin</th>\n",
       "      <th>Body mass index</th>\n",
       "      <th>Diabetes pedigree function</th>\n",
       "      <th>Age</th>\n",
       "      <th>Class</th>\n",
       "    </tr>\n",
       "  </thead>\n",
       "  <tbody>\n",
       "    <tr>\n",
       "      <th>0</th>\n",
       "      <td>6</td>\n",
       "      <td>148</td>\n",
       "      <td>72</td>\n",
       "      <td>35</td>\n",
       "      <td>0</td>\n",
       "      <td>33.6</td>\n",
       "      <td>0.627</td>\n",
       "      <td>50</td>\n",
       "      <td>1</td>\n",
       "    </tr>\n",
       "    <tr>\n",
       "      <th>1</th>\n",
       "      <td>1</td>\n",
       "      <td>85</td>\n",
       "      <td>66</td>\n",
       "      <td>29</td>\n",
       "      <td>0</td>\n",
       "      <td>26.6</td>\n",
       "      <td>0.351</td>\n",
       "      <td>31</td>\n",
       "      <td>0</td>\n",
       "    </tr>\n",
       "    <tr>\n",
       "      <th>2</th>\n",
       "      <td>8</td>\n",
       "      <td>183</td>\n",
       "      <td>64</td>\n",
       "      <td>0</td>\n",
       "      <td>0</td>\n",
       "      <td>23.3</td>\n",
       "      <td>0.672</td>\n",
       "      <td>32</td>\n",
       "      <td>1</td>\n",
       "    </tr>\n",
       "    <tr>\n",
       "      <th>3</th>\n",
       "      <td>1</td>\n",
       "      <td>89</td>\n",
       "      <td>66</td>\n",
       "      <td>23</td>\n",
       "      <td>94</td>\n",
       "      <td>28.1</td>\n",
       "      <td>0.167</td>\n",
       "      <td>21</td>\n",
       "      <td>0</td>\n",
       "    </tr>\n",
       "    <tr>\n",
       "      <th>4</th>\n",
       "      <td>0</td>\n",
       "      <td>137</td>\n",
       "      <td>40</td>\n",
       "      <td>35</td>\n",
       "      <td>168</td>\n",
       "      <td>43.1</td>\n",
       "      <td>2.288</td>\n",
       "      <td>33</td>\n",
       "      <td>1</td>\n",
       "    </tr>\n",
       "  </tbody>\n",
       "</table>\n",
       "</div>"
      ],
      "text/plain": [
       "   Number of times pregnant  Plasma glucose concentration  \\\n",
       "0                         6                           148   \n",
       "1                         1                            85   \n",
       "2                         8                           183   \n",
       "3                         1                            89   \n",
       "4                         0                           137   \n",
       "\n",
       "   Diastolic blood pressure  Triceps skinfold thickness  2-Hour serum insulin  \\\n",
       "0                        72                          35                     0   \n",
       "1                        66                          29                     0   \n",
       "2                        64                           0                     0   \n",
       "3                        66                          23                    94   \n",
       "4                        40                          35                   168   \n",
       "\n",
       "   Body mass index  Diabetes pedigree function  Age  Class  \n",
       "0             33.6                       0.627   50      1  \n",
       "1             26.6                       0.351   31      0  \n",
       "2             23.3                       0.672   32      1  \n",
       "3             28.1                       0.167   21      0  \n",
       "4             43.1                       2.288   33      1  "
      ]
     },
     "execution_count": 5,
     "metadata": {},
     "output_type": "execute_result"
    }
   ],
   "source": [
    "df.head()"
   ]
  },
  {
   "cell_type": "code",
   "execution_count": 6,
   "metadata": {},
   "outputs": [],
   "source": [
    "class_0 = np.where(df['Class']==1)\n",
    "class_1 = np.where(df['Class']==0)"
   ]
  },
  {
   "cell_type": "code",
   "execution_count": 7,
   "metadata": {},
   "outputs": [
    {
     "data": {
      "text/plain": [
       "<matplotlib.collections.LineCollection at 0x7f02c6fd3940>"
      ]
     },
     "execution_count": 7,
     "metadata": {},
     "output_type": "execute_result"
    },
    {
     "data": {
      "image/png": "[encoded data removed]",
      "text/plain": [
       "<Figure size 720x360 with 1 Axes>"
      ]
     },
     "metadata": {
      "needs_background": "light"
     },
     "output_type": "display_data"
    }
   ],
   "source": [
    "fig,ax1=plt.subplots(1,1,figsize=(10,5))\n",
    "ax1.scatter(df.iloc[class_1]['Age'],df.iloc[class_1]['Class'],s=50,c='b',marker='+',label='One class')\n",
    "ax1.scatter(df.iloc[class_0]['Age'],df.iloc[class_0]['Class'],s=50,c='g',marker='o',label=\"Second Class\")\n",
    "plt.hlines(y=0.5,xmin=100,xmax=500)"
   ]
  },
  {
   "cell_type": "code",
   "execution_count": 8,
   "metadata": {},
   "outputs": [],
   "source": [
    "#Initialize the class\n",
    "obj=logistic_regression(df.shape[0],0.001)"
   ]
  },
  {
   "cell_type": "code",
   "execution_count": 9,
   "metadata": {},
   "outputs": [],
   "source": [
    "#Convert the features to a matrix\n",
    "X = df.iloc[:,0:8].values\n",
    "y = df['Class'].values"
   ]
  },
  {
   "cell_type": "code",
   "execution_count": 31,
   "metadata": {},
   "outputs": [],
   "source": [
    "model = obj.fit(X,y)"
   ]
  },
  {
   "cell_type": "code",
   "execution_count": 32,
   "metadata": {},
   "outputs": [
    {
     "data": {
      "text/plain": [
       "0"
      ]
     },
     "execution_count": 32,
     "metadata": {},
     "output_type": "execute_result"
    }
   ],
   "source": [
    "model.predict([[1,115,70,30,96,34.6,0.529,32]],0.5)"
   ]
  }
 ],
 "metadata": {
  "kernelspec": {
   "display_name": "Python 3",
   "language": "python",
   "name": "python3"
  },
  "language_info": {
   "codemirror_mode": {
    "name": "ipython",
    "version": 3
   },
   "file_extension": ".py",
   "mimetype": "text/x-python",
   "name": "python",
   "nbconvert_exporter": "python",
   "pygments_lexer": "ipython3",
   "version": "3.6.10"
  }
 },
 "nbformat": 4,
 "nbformat_minor": 4
}
